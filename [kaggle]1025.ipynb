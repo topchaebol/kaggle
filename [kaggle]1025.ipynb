{
  "nbformat": 4,
  "nbformat_minor": 0,
  "metadata": {
    "colab": {
      "provenance": [],
      "authorship_tag": "ABX9TyOk1h+v+/g7wKzUP55j1CCL",
      "include_colab_link": true
    },
    "kernelspec": {
      "name": "python3",
      "display_name": "Python 3"
    },
    "language_info": {
      "name": "python"
    }
  },
  "cells": [
    {
      "cell_type": "markdown",
      "metadata": {
        "id": "view-in-github",
        "colab_type": "text"
      },
      "source": [
        "<a href=\"https://colab.research.google.com/github/topchaebol/kaggle/blob/main/%5Bkaggle%5D1025.ipynb\" target=\"_parent\"><img src=\"https://colab.research.google.com/assets/colab-badge.svg\" alt=\"Open In Colab\"/></a>"
      ]
    },
    {
      "cell_type": "code",
      "execution_count": 1,
      "metadata": {
        "id": "x9tQc35fzi1m"
      },
      "outputs": [],
      "source": [
        "import numpy as np # linear algebra\n",
        "import pandas as pd # data processing, CSV file I/O (e.g. pd.read_csv)\n",
        "\n",
        "# Input data files are available in the read-only \"../input/\" directory\n",
        "# For example, running this (by clicking run or pressing Shift+Enter) will list all files under the input directory\n",
        "\n",
        "import os\n",
        "for dirname, _, filenames in os.walk('/kaggle/input'):\n",
        "    for filename in filenames:\n",
        "        print(os.path.join(dirname, filename))\n"
      ]
    },
    {
      "cell_type": "code",
      "source": [
        "import requests\n",
        "\n",
        "input_data = \"hello\"\n",
        "\n",
        "def query(input_data):\n",
        "    response = requests.post('http://test.advml.com/score', json={'data': input_data})\n",
        "    return response.json()\n",
        "\n",
        "query(input_data)"
      ],
      "metadata": {
        "colab": {
          "base_uri": "https://localhost:8080/"
        },
        "id": "xdmoVvKazqG-",
        "outputId": "bdd60edb-c80a-43ab-8e5a-d4312d5d88c5"
      },
      "execution_count": 2,
      "outputs": [
        {
          "output_type": "execute_result",
          "data": {
            "text/plain": [
              "{'flag': 'gAAAAABlOIbdDjWmap0M5SSol2rEHZxcHjlGHfjPUFUFmGtFsBtuNO3dFYDL5gWLbkrUTwTToSWrj0MQoaBANGJ90xMlPgfQolUbGtRrtOEa_DHh-nGZXRMUlHU9170jX0CV5zYe-RKipcQ6JaVGlefIq1eZBlPL3Pjoe1BhCS-XFy6KOwqx8TQ='}"
            ]
          },
          "metadata": {},
          "execution_count": 2
        }
      ]
    }
  ]
}