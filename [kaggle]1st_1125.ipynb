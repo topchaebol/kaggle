{
  "nbformat": 4,
  "nbformat_minor": 0,
  "metadata": {
    "colab": {
      "provenance": [],
      "authorship_tag": "ABX9TyNWuEZdOLtrAlSDCAGEr4NW",
      "include_colab_link": true
    },
    "kernelspec": {
      "name": "python3",
      "display_name": "Python 3"
    },
    "language_info": {
      "name": "python"
    }
  },
  "cells": [
    {
      "cell_type": "markdown",
      "metadata": {
        "id": "view-in-github",
        "colab_type": "text"
      },
      "source": [
        "<a href=\"https://colab.research.google.com/github/topchaebol/kaggle/blob/main/%5Bkaggle%5D1st_1125.ipynb\" target=\"_parent\"><img src=\"https://colab.research.google.com/assets/colab-badge.svg\" alt=\"Open In Colab\"/></a>"
      ]
    },
    {
      "cell_type": "code",
      "execution_count": 2,
      "metadata": {
        "id": "qPFKsvEbuq0N"
      },
      "outputs": [],
      "source": [
        "import numpy as np\n",
        "import pandas as pd\n",
        "import pandas.api.types\n",
        "\n",
        "# import kaggle_metric_utilities\n",
        "import sklearn.metrics\n",
        "from typing import Sequence, Union, Optional\n",
        "\n",
        "def score(solution: pd.DataFrame, submission: pd.DataFrame, row_id_column_name: str, weights_column_name: Optional[str]=None, adjusted: bool=False) -> float:\n",
        "    del solution[row_id_column_name]\n",
        "    del submission[row_id_column_name]\n",
        "\n",
        "    sample_weight = None\n",
        "    if weights_column_name:\n",
        "        if weights_column_name not in solution.columns:\n",
        "            raise ValueError(f'The solution weights column {weights_column_name} is not found')\n",
        "        sample_weight = solution.pop(weights_column_name).values\n",
        "        if not pandas.api.types.is_numeric_dtype(sample_weight):\n",
        "            raise ParticipantVisibleError('The solution weights are not numeric')\n",
        "\n",
        "    if len(submission.columns) > 1:\n",
        "        raise ParticipantVisibleError(f'The submission can only include one column of predictions. Found {len(submission.columns)}')\n",
        "\n",
        "    solution = solution.values\n",
        "    submission = submission.values\n",
        "\n",
        "    score_result = kaggle_metric_utilities.safe_call_score(sklearn.metrics.balanced_accuracy_score, solution, submission, sample_weight=sample_weight, adjusted=adjusted)\n",
        "\n",
        "    return score_result"
      ]
    },
    {
      "cell_type": "code",
      "source": [],
      "metadata": {
        "id": "A9scLOlQxQQT"
      },
      "execution_count": null,
      "outputs": []
    }
  ]
}